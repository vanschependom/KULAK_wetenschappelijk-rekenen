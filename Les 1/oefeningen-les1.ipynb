{
 "cells": [
  {
   "cell_type": "markdown",
   "metadata": {
    "isInteractiveWindowMessageCell": true
   },
   "source": [
    "Connected to base (Python 3.11.4)"
   ]
  },
  {
   "cell_type": "markdown",
   "metadata": {},
   "source": [
    "# Wetenschappelijk rekenen sessie 1"
   ]
  },
  {
   "cell_type": "code",
   "execution_count": 1,
   "metadata": {},
   "outputs": [],
   "source": [
    "import sympy as sp"
   ]
  },
  {
   "cell_type": "markdown",
   "metadata": {},
   "source": [
    "### Oefening 1"
   ]
  },
  {
   "cell_type": "code",
   "execution_count": 2,
   "metadata": {},
   "outputs": [],
   "source": [
    "def f(x): return (x**3)/(x**2-1)"
   ]
  },
  {
   "cell_type": "code",
   "execution_count": 5,
   "metadata": {},
   "outputs": [],
   "source": [
    "x = sp.symbols('x')"
   ]
  },
  {
   "cell_type": "code",
   "execution_count": 8,
   "metadata": {},
   "outputs": [
    {
     "data": {
      "text/plain": [
       "[-1, 1]"
      ]
     },
     "execution_count": 8,
     "metadata": {},
     "output_type": "execute_result"
    }
   ],
   "source": [
    "sp.solve(sp.denom(f(x)))"
   ]
  },
  {
   "cell_type": "markdown",
   "metadata": {},
   "source": [
    "Het definitiegebied is R \\ [-1,1]."
   ]
  },
  {
   "cell_type": "code",
   "execution_count": 13,
   "metadata": {},
   "outputs": [
    {
     "data": {
      "text/plain": [
       "[0]"
      ]
     },
     "execution_count": 13,
     "metadata": {},
     "output_type": "execute_result"
    }
   ],
   "source": [
    "# Nulpunten\n",
    "sp.solve(f(x))"
   ]
  },
  {
   "cell_type": "code",
   "execution_count": 10,
   "metadata": {},
   "outputs": [
    {
     "data": {
      "text/latex": [
       "$\\displaystyle \\left(-1 < x \\wedge x < 0\\right) \\vee \\left(1 < x \\wedge x < \\infty\\right)$"
      ],
      "text/plain": [
       "((-1 < x) & (x < 0)) | ((1 < x) & (x < oo))"
      ]
     },
     "execution_count": 10,
     "metadata": {},
     "output_type": "execute_result"
    }
   ],
   "source": [
    "# Positieve functiewaarde\n",
    "sp.solve(f(x)>0)"
   ]
  },
  {
   "cell_type": "markdown",
   "metadata": {},
   "source": [
    "*f* ligt boven de x-as over het interval ]-1,0[ U ]1,+oo["
   ]
  },
  {
   "cell_type": "code",
   "execution_count": 11,
   "metadata": {},
   "outputs": [
    {
     "data": {
      "text/latex": [
       "$\\displaystyle \\left(-\\infty < x \\wedge x < -1\\right) \\vee \\left(0 < x \\wedge x < 1\\right)$"
      ],
      "text/plain": [
       "((-oo < x) & (x < -1)) | ((0 < x) & (x < 1))"
      ]
     },
     "execution_count": 11,
     "metadata": {},
     "output_type": "execute_result"
    }
   ],
   "source": [
    "# Negatieve functiewaarde\n",
    "sp.solve(f(x)<0)"
   ]
  },
  {
   "cell_type": "markdown",
   "metadata": {},
   "source": [
    "*f* ligt onder de x-as over het interval ]-oo,-1[ U ]0,1["
   ]
  },
  {
   "cell_type": "code",
   "execution_count": 15,
   "metadata": {},
   "outputs": [
    {
     "data": {
      "text/latex": [
       "$\\displaystyle -\\infty$"
      ],
      "text/plain": [
       "-oo"
      ]
     },
     "execution_count": 15,
     "metadata": {},
     "output_type": "execute_result"
    }
   ],
   "source": [
    "sp.limit(f(x),x,-1,\"-\")"
   ]
  },
  {
   "cell_type": "code",
   "execution_count": 17,
   "metadata": {},
   "outputs": [
    {
     "data": {
      "text/latex": [
       "$\\displaystyle \\infty$"
      ],
      "text/plain": [
       "oo"
      ]
     },
     "execution_count": 17,
     "metadata": {},
     "output_type": "execute_result"
    }
   ],
   "source": [
    "sp.limit(f(x),x,-1,\"+\")"
   ]
  },
  {
   "cell_type": "markdown",
   "metadata": {},
   "source": [
    "x = -1 is een verticale asymptoot."
   ]
  },
  {
   "cell_type": "code",
   "execution_count": 18,
   "metadata": {},
   "outputs": [
    {
     "data": {
      "text/latex": [
       "$\\displaystyle \\infty$"
      ],
      "text/plain": [
       "oo"
      ]
     },
     "execution_count": 18,
     "metadata": {},
     "output_type": "execute_result"
    }
   ],
   "source": [
    "sp.limit(f(x),x,1,\"+\")"
   ]
  },
  {
   "cell_type": "code",
   "execution_count": 19,
   "metadata": {},
   "outputs": [
    {
     "data": {
      "text/latex": [
       "$\\displaystyle \\infty$"
      ],
      "text/plain": [
       "oo"
      ]
     },
     "execution_count": 19,
     "metadata": {},
     "output_type": "execute_result"
    }
   ],
   "source": [
    "sp.limit(f(x),x,1,\"+\")"
   ]
  },
  {
   "cell_type": "markdown",
   "metadata": {},
   "source": [
    "x = 1 is ook een verticale asymptoot."
   ]
  },
  {
   "cell_type": "code",
   "execution_count": 21,
   "metadata": {},
   "outputs": [
    {
     "data": {
      "text/latex": [
       "$\\displaystyle \\infty$"
      ],
      "text/plain": [
       "oo"
      ]
     },
     "execution_count": 21,
     "metadata": {},
     "output_type": "execute_result"
    }
   ],
   "source": [
    "sp.limit(f(x),x,sp.oo,\"+\")"
   ]
  },
  {
   "cell_type": "code",
   "execution_count": 22,
   "metadata": {},
   "outputs": [
    {
     "data": {
      "text/latex": [
       "$\\displaystyle \\infty$"
      ],
      "text/plain": [
       "oo"
      ]
     },
     "execution_count": 22,
     "metadata": {},
     "output_type": "execute_result"
    }
   ],
   "source": [
    "sp.limit(f(x),x,sp.oo,\"-\")"
   ]
  },
  {
   "cell_type": "code",
   "execution_count": 23,
   "metadata": {},
   "outputs": [
    {
     "data": {
      "text/latex": [
       "$\\displaystyle -\\infty$"
      ],
      "text/plain": [
       "-oo"
      ]
     },
     "execution_count": 23,
     "metadata": {},
     "output_type": "execute_result"
    }
   ],
   "source": [
    "sp.limit(f(x),x,-sp.oo,\"+\")"
   ]
  },
  {
   "cell_type": "code",
   "execution_count": 24,
   "metadata": {},
   "outputs": [
    {
     "data": {
      "text/latex": [
       "$\\displaystyle -\\infty$"
      ],
      "text/plain": [
       "-oo"
      ]
     },
     "execution_count": 24,
     "metadata": {},
     "output_type": "execute_result"
    }
   ],
   "source": [
    "sp.limit(f(x),x,-sp.oo,\"-\")"
   ]
  },
  {
   "cell_type": "markdown",
   "metadata": {},
   "source": [
    "Geen horizontale asymptoten."
   ]
  },
  {
   "cell_type": "code",
   "execution_count": 26,
   "metadata": {},
   "outputs": [
    {
     "data": {
      "text/latex": [
       "$\\displaystyle 1$"
      ],
      "text/plain": [
       "1"
      ]
     },
     "execution_count": 26,
     "metadata": {},
     "output_type": "execute_result"
    }
   ],
   "source": [
    "sp.limit((f(x)/x),x,sp.oo,\"+\")"
   ]
  },
  {
   "cell_type": "code",
   "execution_count": 25,
   "metadata": {},
   "outputs": [
    {
     "data": {
      "text/latex": [
       "$\\displaystyle 1$"
      ],
      "text/plain": [
       "1"
      ]
     },
     "execution_count": 25,
     "metadata": {},
     "output_type": "execute_result"
    }
   ],
   "source": [
    "sp.limit((f(x)/x),x,sp.oo,\"-\")"
   ]
  },
  {
   "cell_type": "markdown",
   "metadata": {},
   "source": [
    "y = x is een SA."
   ]
  },
  {
   "cell_type": "code",
   "execution_count": 27,
   "metadata": {},
   "outputs": [
    {
     "data": {
      "text/latex": [
       "$\\displaystyle 1$"
      ],
      "text/plain": [
       "1"
      ]
     },
     "execution_count": 27,
     "metadata": {},
     "output_type": "execute_result"
    }
   ],
   "source": [
    "sp.limit((f(x)/x),x,-sp.oo,\"+\")"
   ]
  },
  {
   "cell_type": "code",
   "execution_count": 28,
   "metadata": {},
   "outputs": [
    {
     "data": {
      "text/latex": [
       "$\\displaystyle 1$"
      ],
      "text/plain": [
       "1"
      ]
     },
     "execution_count": 28,
     "metadata": {},
     "output_type": "execute_result"
    }
   ],
   "source": [
    "sp.limit((f(x)/x),x,-sp.oo,\"-\")"
   ]
  },
  {
   "cell_type": "markdown",
   "metadata": {},
   "source": [
    "We hebben dezelfde SA op -oo."
   ]
  },
  {
   "cell_type": "code",
   "execution_count": 29,
   "metadata": {},
   "outputs": [],
   "source": [
    "# Afgeleide functie van f(x)\n",
    "def Df(x0): return sp.diff(f(x),x).subs(x,x0)"
   ]
  },
  {
   "cell_type": "code",
   "execution_count": 40,
   "metadata": {},
   "outputs": [
    {
     "data": {
      "text/plain": [
       "[0, -sqrt(3), sqrt(3)]"
      ]
     },
     "execution_count": 40,
     "metadata": {},
     "output_type": "execute_result"
    }
   ],
   "source": [
    "# Kritieke punten\n",
    "kritiekePunten = sp.solve(Df(x))\n",
    "kritiekePunten"
   ]
  },
  {
   "cell_type": "code",
   "execution_count": 35,
   "metadata": {},
   "outputs": [
    {
     "data": {
      "text/latex": [
       "$\\displaystyle \\left(-\\infty < x \\wedge x < - \\sqrt{3}\\right) \\vee \\left(\\sqrt{3} < x \\wedge x < \\infty\\right)$"
      ],
      "text/plain": [
       "((x < oo) & (sqrt(3) < x)) | ((-oo < x) & (x < -sqrt(3)))"
      ]
     },
     "execution_count": 35,
     "metadata": {},
     "output_type": "execute_result"
    }
   ],
   "source": [
    "# f is stijgend\n",
    "sp.solve(Df(x)>0)"
   ]
  },
  {
   "cell_type": "code",
   "execution_count": 34,
   "metadata": {},
   "outputs": [
    {
     "data": {
      "text/latex": [
       "$\\displaystyle \\left(-1 < x \\wedge x < 0\\right) \\vee \\left(0 < x \\wedge x < 1\\right) \\vee \\left(1 < x \\wedge x < \\sqrt{3}\\right) \\vee \\left(- \\sqrt{3} < x \\wedge x < -1\\right)$"
      ],
      "text/plain": [
       "((-1 < x) & (x < 0)) | ((0 < x) & (x < 1)) | ((1 < x) & (x < sqrt(3))) | ((x < -1) & (-sqrt(3) < x))"
      ]
     },
     "execution_count": 34,
     "metadata": {},
     "output_type": "execute_result"
    }
   ],
   "source": [
    "# f is dalend\n",
    "sp.solve(Df(x)<0)"
   ]
  },
  {
   "cell_type": "markdown",
   "metadata": {},
   "source": [
    "We onderzoeken of Df van teken verandert in de kritieke punten:"
   ]
  },
  {
   "cell_type": "code",
   "execution_count": 43,
   "metadata": {},
   "outputs": [
    {
     "name": "stdout",
     "output_type": "stream",
     "text": [
      "De afgeleide verandert van teken in -sqrt(3) dus we kunnen spreken van een extremum.\n",
      "De afgeleide verandert van teken in sqrt(3) dus we kunnen spreken van een extremum.\n"
     ]
    }
   ],
   "source": [
    "for kritiekPunt in kritiekePunten:\n",
    "\n",
    "    if Df(kritiekPunt - 0.1) < 0 < Df(kritiekPunt + 0.1) or Df(kritiekPunt + 0.1) < 0 < Df(kritiekPunt - 0.1):\n",
    "\n",
    "        print(\"De afgeleide verandert van teken in\", kritiekPunt, \"dus we kunnen spreken van een extremum.\")"
   ]
  },
  {
   "cell_type": "code",
   "execution_count": 44,
   "metadata": {},
   "outputs": [],
   "source": [
    "# Tweede afgeleide van f\n",
    "def D2f(x0): return sp.diff(f(x),x,2).subs(x,x0)"
   ]
  },
  {
   "cell_type": "code",
   "execution_count": 45,
   "metadata": {},
   "outputs": [
    {
     "data": {
      "text/latex": [
       "$\\displaystyle \\left(-1 < x \\wedge x < 0\\right) \\vee \\left(1 < x \\wedge x < \\infty\\right)$"
      ],
      "text/plain": [
       "((-1 < x) & (x < 0)) | ((1 < x) & (x < oo))"
      ]
     },
     "execution_count": 45,
     "metadata": {},
     "output_type": "execute_result"
    }
   ],
   "source": [
    "# Hol\n",
    "sp.solve(D2f(x)>0)"
   ]
  },
  {
   "cell_type": "code",
   "execution_count": 46,
   "metadata": {},
   "outputs": [
    {
     "data": {
      "text/latex": [
       "$\\displaystyle \\left(-\\infty < x \\wedge x < -1\\right) \\vee \\left(0 < x \\wedge x < 1\\right)$"
      ],
      "text/plain": [
       "((-oo < x) & (x < -1)) | ((0 < x) & (x < 1))"
      ]
     },
     "execution_count": 46,
     "metadata": {},
     "output_type": "execute_result"
    }
   ],
   "source": [
    "# Bol\n",
    "sp.solve(D2f(x)<0)"
   ]
  },
  {
   "cell_type": "code",
   "execution_count": 48,
   "metadata": {},
   "outputs": [
    {
     "data": {
      "text/plain": [
       "[0, -sqrt(3)*I, sqrt(3)*I]"
      ]
     },
     "execution_count": 48,
     "metadata": {},
     "output_type": "execute_result"
    }
   ],
   "source": [
    "mogelijkeBuigpunten = sp.solve(D2f(x))\n",
    "mogelijkeBuigpunten"
   ]
  },
  {
   "cell_type": "code",
   "execution_count": 52,
   "metadata": {},
   "outputs": [
    {
     "name": "stdout",
     "output_type": "stream",
     "text": [
      "0\n"
     ]
    },
    {
     "ename": "TypeError",
     "evalue": "cannot determine truth value of Relational",
     "output_type": "error",
     "traceback": [
      "\u001b[0;31m---------------------------------------------------------------------------\u001b[0m",
      "\u001b[0;31mTypeError\u001b[0m                                 Traceback (most recent call last)",
      "\u001b[1;32m/Volumes/Extreme SSD/Kulak/Kulak 2023-2024/Informaticawerktuigen/Wetenschappelijk Rekenen/KULAK_wetenschappelijk-rekenen/Les 1/oefeningen/les1-oef.ipynb Cell 41\u001b[0m line \u001b[0;36m3\n\u001b[1;32m      <a href='vscode-notebook-cell:/Volumes/Extreme%20SSD/Kulak/Kulak%202023-2024/Informaticawerktuigen/Wetenschappelijk%20Rekenen/KULAK_wetenschappelijk-rekenen/Les%201/oefeningen/les1-oef.ipynb#Y102sZmlsZQ%3D%3D?line=0'>1</a>\u001b[0m \u001b[39mfor\u001b[39;00m mogelijkBuigpunt \u001b[39min\u001b[39;00m mogelijkeBuigpunten:\n\u001b[0;32m----> <a href='vscode-notebook-cell:/Volumes/Extreme%20SSD/Kulak/Kulak%202023-2024/Informaticawerktuigen/Wetenschappelijk%20Rekenen/KULAK_wetenschappelijk-rekenen/Les%201/oefeningen/les1-oef.ipynb#Y102sZmlsZQ%3D%3D?line=2'>3</a>\u001b[0m     \u001b[39mif\u001b[39;00m D2f(sp\u001b[39m.\u001b[39mN(mogelijkBuigpunt) \u001b[39m-\u001b[39m \u001b[39m0.1\u001b[39m) \u001b[39m<\u001b[39m \u001b[39m0\u001b[39m \u001b[39m<\u001b[39m D2f(sp\u001b[39m.\u001b[39mN(mogelijkBuigpunt) \u001b[39m+\u001b[39m \u001b[39m0.1\u001b[39m) \u001b[39mor\u001b[39;00m D2f(sp\u001b[39m.\u001b[39mN(mogelijkBuigpunt) \u001b[39m+\u001b[39m \u001b[39m0.1\u001b[39m) \u001b[39m<\u001b[39m \u001b[39m0\u001b[39m \u001b[39m<\u001b[39m D2f(sp\u001b[39m.\u001b[39mN(mogelijkBuigpunt) \u001b[39m-\u001b[39m \u001b[39m0.1\u001b[39m):\n\u001b[1;32m      <a href='vscode-notebook-cell:/Volumes/Extreme%20SSD/Kulak/Kulak%202023-2024/Informaticawerktuigen/Wetenschappelijk%20Rekenen/KULAK_wetenschappelijk-rekenen/Les%201/oefeningen/les1-oef.ipynb#Y102sZmlsZQ%3D%3D?line=4'>5</a>\u001b[0m         \u001b[39mprint\u001b[39m(Df(mogelijkBuigpunt))\n",
      "File \u001b[0;32m~/anaconda3/lib/python3.11/site-packages/sympy/core/relational.py:511\u001b[0m, in \u001b[0;36mRelational.__bool__\u001b[0;34m(self)\u001b[0m\n\u001b[1;32m    510\u001b[0m \u001b[39mdef\u001b[39;00m \u001b[39m__bool__\u001b[39m(\u001b[39mself\u001b[39m):\n\u001b[0;32m--> 511\u001b[0m     \u001b[39mraise\u001b[39;00m \u001b[39mTypeError\u001b[39;00m(\u001b[39m\"\u001b[39m\u001b[39mcannot determine truth value of Relational\u001b[39m\u001b[39m\"\u001b[39m)\n",
      "\u001b[0;31mTypeError\u001b[0m: cannot determine truth value of Relational"
     ]
    }
   ],
   "source": [
    "for mogelijkBuigpunt in mogelijkeBuigpunten:\n",
    "\n",
    "    sp.N(mogelijkBuigpunt) - 0.1\n",
    "\n",
    "    # if D2f(sp.N(mogelijkBuigpunt) - 0.1) < 0 < D2f(sp.N(mogelijkBuigpunt) + 0.1) or D2f(sp.N(mogelijkBuigpunt) + 0.1) < 0 < D2f(sp.N(mogelijkBuigpunt) - 0.1):\n",
    "\n",
    "    #     print(Df(mogelijkBuigpunt))"
   ]
  },
  {
   "cell_type": "code",
   "execution_count": null,
   "metadata": {},
   "outputs": [],
   "source": []
  }
 ],
 "metadata": {
  "kernelspec": {
   "display_name": "base",
   "language": "python",
   "name": "python3"
  },
  "language_info": {
   "codemirror_mode": {
    "name": "ipython",
    "version": 3
   },
   "file_extension": ".py",
   "mimetype": "text/x-python",
   "name": "python",
   "nbconvert_exporter": "python",
   "pygments_lexer": "ipython3",
   "version": "3.11.4"
  }
 },
 "nbformat": 4,
 "nbformat_minor": 2
}
