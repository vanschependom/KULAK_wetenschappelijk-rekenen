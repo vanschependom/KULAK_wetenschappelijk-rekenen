{
 "cells": [
  {
   "cell_type": "markdown",
   "metadata": {
    "isInteractiveWindowMessageCell": true
   },
   "source": [
    "Connected to base (Python 3.11.4)"
   ]
  },
  {
   "cell_type": "markdown",
   "metadata": {},
   "source": [
    "# Wetenschappelijk rekenen sessie 1"
   ]
  },
  {
   "cell_type": "code",
   "execution_count": 2,
   "metadata": {},
   "outputs": [],
   "source": [
    "import sympy as sp"
   ]
  },
  {
   "cell_type": "code",
   "execution_count": 3,
   "metadata": {},
   "outputs": [],
   "source": [
    "x = sp.symbols('x')"
   ]
  },
  {
   "cell_type": "markdown",
   "metadata": {},
   "source": [
    "### Oefening 1"
   ]
  },
  {
   "cell_type": "code",
   "execution_count": 4,
   "metadata": {},
   "outputs": [
    {
     "data": {
      "text/latex": [
       "$\\displaystyle \\frac{x^{3}}{x^{2} - 1}$"
      ],
      "text/plain": [
       "x**3/(x**2 - 1)"
      ]
     },
     "execution_count": 4,
     "metadata": {},
     "output_type": "execute_result"
    }
   ],
   "source": [
    "def f(x): return (x**3)/(x**2-1)\n",
    "f(x)"
   ]
  },
  {
   "cell_type": "code",
   "execution_count": 5,
   "metadata": {},
   "outputs": [
    {
     "data": {
      "text/plain": [
       "[-1, 1]"
      ]
     },
     "execution_count": 5,
     "metadata": {},
     "output_type": "execute_result"
    }
   ],
   "source": [
    "sp.solve(sp.denom(f(x)))"
   ]
  },
  {
   "cell_type": "markdown",
   "metadata": {},
   "source": [
    "Het definitiegebied is R \\ [-1,1]."
   ]
  },
  {
   "cell_type": "code",
   "execution_count": 6,
   "metadata": {},
   "outputs": [
    {
     "data": {
      "text/plain": [
       "[0]"
      ]
     },
     "execution_count": 6,
     "metadata": {},
     "output_type": "execute_result"
    }
   ],
   "source": [
    "# Nulpunten\n",
    "sp.solve(f(x))"
   ]
  },
  {
   "cell_type": "code",
   "execution_count": 7,
   "metadata": {},
   "outputs": [
    {
     "data": {
      "text/latex": [
       "$\\displaystyle \\left(-1 < x \\wedge x < 0\\right) \\vee \\left(1 < x \\wedge x < \\infty\\right)$"
      ],
      "text/plain": [
       "((-1 < x) & (x < 0)) | ((1 < x) & (x < oo))"
      ]
     },
     "execution_count": 7,
     "metadata": {},
     "output_type": "execute_result"
    }
   ],
   "source": [
    "# Positieve functiewaarde\n",
    "sp.solve(f(x)>0)"
   ]
  },
  {
   "cell_type": "markdown",
   "metadata": {},
   "source": [
    "*f* ligt boven de x-as over het interval ]-1,0[ U ]1,+oo["
   ]
  },
  {
   "cell_type": "code",
   "execution_count": 8,
   "metadata": {},
   "outputs": [
    {
     "data": {
      "text/latex": [
       "$\\displaystyle \\left(-\\infty < x \\wedge x < -1\\right) \\vee \\left(0 < x \\wedge x < 1\\right)$"
      ],
      "text/plain": [
       "((-oo < x) & (x < -1)) | ((0 < x) & (x < 1))"
      ]
     },
     "execution_count": 8,
     "metadata": {},
     "output_type": "execute_result"
    }
   ],
   "source": [
    "# Negatieve functiewaarde\n",
    "sp.solve(f(x)<0)"
   ]
  },
  {
   "cell_type": "markdown",
   "metadata": {},
   "source": [
    "*f* ligt onder de x-as over het interval ]-oo,-1[ U ]0,1["
   ]
  },
  {
   "cell_type": "code",
   "execution_count": 9,
   "metadata": {},
   "outputs": [
    {
     "data": {
      "text/latex": [
       "$\\displaystyle -\\infty$"
      ],
      "text/plain": [
       "-oo"
      ]
     },
     "execution_count": 9,
     "metadata": {},
     "output_type": "execute_result"
    }
   ],
   "source": [
    "sp.limit(f(x),x,-1,\"-\")"
   ]
  },
  {
   "cell_type": "code",
   "execution_count": 10,
   "metadata": {},
   "outputs": [
    {
     "data": {
      "text/latex": [
       "$\\displaystyle \\infty$"
      ],
      "text/plain": [
       "oo"
      ]
     },
     "execution_count": 10,
     "metadata": {},
     "output_type": "execute_result"
    }
   ],
   "source": [
    "sp.limit(f(x),x,-1,\"+\")"
   ]
  },
  {
   "cell_type": "markdown",
   "metadata": {},
   "source": [
    "x = -1 is een verticale asymptoot."
   ]
  },
  {
   "cell_type": "code",
   "execution_count": 11,
   "metadata": {},
   "outputs": [
    {
     "data": {
      "text/latex": [
       "$\\displaystyle \\infty$"
      ],
      "text/plain": [
       "oo"
      ]
     },
     "execution_count": 11,
     "metadata": {},
     "output_type": "execute_result"
    }
   ],
   "source": [
    "sp.limit(f(x),x,1,\"+\")"
   ]
  },
  {
   "cell_type": "code",
   "execution_count": 12,
   "metadata": {},
   "outputs": [
    {
     "data": {
      "text/latex": [
       "$\\displaystyle -\\infty$"
      ],
      "text/plain": [
       "-oo"
      ]
     },
     "execution_count": 12,
     "metadata": {},
     "output_type": "execute_result"
    }
   ],
   "source": [
    "sp.limit(f(x),x,1,\"-\")"
   ]
  },
  {
   "cell_type": "markdown",
   "metadata": {},
   "source": [
    "x = 1 is ook een verticale asymptoot."
   ]
  },
  {
   "cell_type": "code",
   "execution_count": 13,
   "metadata": {},
   "outputs": [
    {
     "data": {
      "text/latex": [
       "$\\displaystyle \\infty$"
      ],
      "text/plain": [
       "oo"
      ]
     },
     "execution_count": 13,
     "metadata": {},
     "output_type": "execute_result"
    }
   ],
   "source": [
    "sp.limit(f(x),x,sp.oo,\"+\")"
   ]
  },
  {
   "cell_type": "code",
   "execution_count": 14,
   "metadata": {},
   "outputs": [
    {
     "data": {
      "text/latex": [
       "$\\displaystyle \\infty$"
      ],
      "text/plain": [
       "oo"
      ]
     },
     "execution_count": 14,
     "metadata": {},
     "output_type": "execute_result"
    }
   ],
   "source": [
    "sp.limit(f(x),x,sp.oo,\"-\")"
   ]
  },
  {
   "cell_type": "code",
   "execution_count": 15,
   "metadata": {},
   "outputs": [
    {
     "data": {
      "text/latex": [
       "$\\displaystyle -\\infty$"
      ],
      "text/plain": [
       "-oo"
      ]
     },
     "execution_count": 15,
     "metadata": {},
     "output_type": "execute_result"
    }
   ],
   "source": [
    "sp.limit(f(x),x,-sp.oo,\"+\")"
   ]
  },
  {
   "cell_type": "code",
   "execution_count": 16,
   "metadata": {},
   "outputs": [
    {
     "data": {
      "text/latex": [
       "$\\displaystyle -\\infty$"
      ],
      "text/plain": [
       "-oo"
      ]
     },
     "execution_count": 16,
     "metadata": {},
     "output_type": "execute_result"
    }
   ],
   "source": [
    "sp.limit(f(x),x,-sp.oo,\"-\")"
   ]
  },
  {
   "cell_type": "markdown",
   "metadata": {},
   "source": [
    "Geen horizontale asymptoten."
   ]
  },
  {
   "cell_type": "code",
   "execution_count": 17,
   "metadata": {},
   "outputs": [
    {
     "data": {
      "text/latex": [
       "$\\displaystyle 1$"
      ],
      "text/plain": [
       "1"
      ]
     },
     "execution_count": 17,
     "metadata": {},
     "output_type": "execute_result"
    }
   ],
   "source": [
    "sp.limit((f(x)/x),x,sp.oo,\"+\")"
   ]
  },
  {
   "cell_type": "code",
   "execution_count": 18,
   "metadata": {},
   "outputs": [
    {
     "data": {
      "text/latex": [
       "$\\displaystyle 1$"
      ],
      "text/plain": [
       "1"
      ]
     },
     "execution_count": 18,
     "metadata": {},
     "output_type": "execute_result"
    }
   ],
   "source": [
    "sp.limit((f(x)/x),x,sp.oo,\"-\")"
   ]
  },
  {
   "cell_type": "markdown",
   "metadata": {},
   "source": [
    "y = x is een SA."
   ]
  },
  {
   "cell_type": "code",
   "execution_count": 19,
   "metadata": {},
   "outputs": [
    {
     "data": {
      "text/latex": [
       "$\\displaystyle 1$"
      ],
      "text/plain": [
       "1"
      ]
     },
     "execution_count": 19,
     "metadata": {},
     "output_type": "execute_result"
    }
   ],
   "source": [
    "sp.limit((f(x)/x),x,-sp.oo,\"+\")"
   ]
  },
  {
   "cell_type": "code",
   "execution_count": 20,
   "metadata": {},
   "outputs": [
    {
     "data": {
      "text/latex": [
       "$\\displaystyle 1$"
      ],
      "text/plain": [
       "1"
      ]
     },
     "execution_count": 20,
     "metadata": {},
     "output_type": "execute_result"
    }
   ],
   "source": [
    "sp.limit((f(x)/x),x,-sp.oo,\"-\")"
   ]
  },
  {
   "cell_type": "markdown",
   "metadata": {},
   "source": [
    "We hebben dezelfde SA op -oo."
   ]
  },
  {
   "cell_type": "code",
   "execution_count": 21,
   "metadata": {},
   "outputs": [
    {
     "data": {
      "text/latex": [
       "$\\displaystyle - \\frac{2 x^{4}}{\\left(x^{2} - 1\\right)^{2}} + \\frac{3 x^{2}}{x^{2} - 1}$"
      ],
      "text/plain": [
       "-2*x**4/(x**2 - 1)**2 + 3*x**2/(x**2 - 1)"
      ]
     },
     "execution_count": 21,
     "metadata": {},
     "output_type": "execute_result"
    }
   ],
   "source": [
    "# Afgeleide functie van f(x)\n",
    "def Df(x0): return sp.diff(f(x),x).subs(x,x0)\n",
    "Df(x)"
   ]
  },
  {
   "cell_type": "code",
   "execution_count": 22,
   "metadata": {},
   "outputs": [
    {
     "data": {
      "text/plain": [
       "[0, -sqrt(3), sqrt(3)]"
      ]
     },
     "execution_count": 22,
     "metadata": {},
     "output_type": "execute_result"
    }
   ],
   "source": [
    "# Kritieke punten\n",
    "kritiekePunten = sp.solve(Df(x))\n",
    "kritiekePunten"
   ]
  },
  {
   "cell_type": "code",
   "execution_count": 23,
   "metadata": {},
   "outputs": [
    {
     "data": {
      "text/latex": [
       "$\\displaystyle \\left(-\\infty < x \\wedge x < - \\sqrt{3}\\right) \\vee \\left(\\sqrt{3} < x \\wedge x < \\infty\\right)$"
      ],
      "text/plain": [
       "((x < oo) & (sqrt(3) < x)) | ((-oo < x) & (x < -sqrt(3)))"
      ]
     },
     "execution_count": 23,
     "metadata": {},
     "output_type": "execute_result"
    }
   ],
   "source": [
    "# f is stijgend\n",
    "sp.solve(Df(x)>0)"
   ]
  },
  {
   "cell_type": "code",
   "execution_count": 24,
   "metadata": {},
   "outputs": [
    {
     "data": {
      "text/latex": [
       "$\\displaystyle \\left(-1 < x \\wedge x < 0\\right) \\vee \\left(0 < x \\wedge x < 1\\right) \\vee \\left(1 < x \\wedge x < \\sqrt{3}\\right) \\vee \\left(- \\sqrt{3} < x \\wedge x < -1\\right)$"
      ],
      "text/plain": [
       "((-1 < x) & (x < 0)) | ((0 < x) & (x < 1)) | ((1 < x) & (x < sqrt(3))) | ((x < -1) & (-sqrt(3) < x))"
      ]
     },
     "execution_count": 24,
     "metadata": {},
     "output_type": "execute_result"
    }
   ],
   "source": [
    "# f is dalend\n",
    "sp.solve(Df(x)<0)"
   ]
  },
  {
   "cell_type": "markdown",
   "metadata": {},
   "source": [
    "We onderzoeken of Df van teken verandert in de kritieke punten:"
   ]
  },
  {
   "cell_type": "code",
   "execution_count": 25,
   "metadata": {},
   "outputs": [
    {
     "name": "stdout",
     "output_type": "stream",
     "text": [
      "De afgeleide verandert van teken in -sqrt(3) dus we kunnen spreken van een extremum.\n",
      "De afgeleide verandert van teken in sqrt(3) dus we kunnen spreken van een extremum.\n"
     ]
    }
   ],
   "source": [
    "for kritiekPunt in kritiekePunten:\n",
    "\n",
    "    if Df(kritiekPunt - 0.1) < 0 < Df(kritiekPunt + 0.1) or Df(kritiekPunt + 0.1) < 0 < Df(kritiekPunt - 0.1):\n",
    "\n",
    "        print(\"De afgeleide verandert van teken in\", kritiekPunt, \"dus we kunnen spreken van een extremum.\")"
   ]
  },
  {
   "cell_type": "code",
   "execution_count": 26,
   "metadata": {},
   "outputs": [
    {
     "data": {
      "text/latex": [
       "$\\displaystyle \\frac{2 x \\left(\\frac{x^{2} \\cdot \\left(\\frac{4 x^{2}}{x^{2} - 1} - 1\\right)}{x^{2} - 1} - \\frac{6 x^{2}}{x^{2} - 1} + 3\\right)}{x^{2} - 1}$"
      ],
      "text/plain": [
       "2*x*(x**2*(4*x**2/(x**2 - 1) - 1)/(x**2 - 1) - 6*x**2/(x**2 - 1) + 3)/(x**2 - 1)"
      ]
     },
     "execution_count": 26,
     "metadata": {},
     "output_type": "execute_result"
    }
   ],
   "source": [
    "# Tweede afgeleide van f\n",
    "def D2f(x0): return sp.diff(f(x),x,2).subs(x,x0)\n",
    "D2f(x)"
   ]
  },
  {
   "cell_type": "code",
   "execution_count": 27,
   "metadata": {},
   "outputs": [
    {
     "data": {
      "text/latex": [
       "$\\displaystyle \\left(-1 < x \\wedge x < 0\\right) \\vee \\left(1 < x \\wedge x < \\infty\\right)$"
      ],
      "text/plain": [
       "((-1 < x) & (x < 0)) | ((1 < x) & (x < oo))"
      ]
     },
     "execution_count": 27,
     "metadata": {},
     "output_type": "execute_result"
    }
   ],
   "source": [
    "# Hol\n",
    "sp.solve(D2f(x)>0)"
   ]
  },
  {
   "cell_type": "code",
   "execution_count": 28,
   "metadata": {},
   "outputs": [
    {
     "data": {
      "text/latex": [
       "$\\displaystyle \\left(-\\infty < x \\wedge x < -1\\right) \\vee \\left(0 < x \\wedge x < 1\\right)$"
      ],
      "text/plain": [
       "((-oo < x) & (x < -1)) | ((0 < x) & (x < 1))"
      ]
     },
     "execution_count": 28,
     "metadata": {},
     "output_type": "execute_result"
    }
   ],
   "source": [
    "# Bol\n",
    "sp.solve(D2f(x)<0)"
   ]
  },
  {
   "cell_type": "code",
   "execution_count": 29,
   "metadata": {},
   "outputs": [
    {
     "data": {
      "text/plain": [
       "[0, -sqrt(3)*I, sqrt(3)*I]"
      ]
     },
     "execution_count": 29,
     "metadata": {},
     "output_type": "execute_result"
    }
   ],
   "source": [
    "mogelijkeBuigpunten = sp.solve(D2f(x))\n",
    "mogelijkeBuigpunten"
   ]
  },
  {
   "cell_type": "code",
   "execution_count": 30,
   "metadata": {},
   "outputs": [
    {
     "name": "stdout",
     "output_type": "stream",
     "text": [
      "0 is een buigpunt\n",
      "-sqrt(3)*I is geen buigpunt\n",
      "sqrt(3)*I is geen buigpunt\n"
     ]
    }
   ],
   "source": [
    "for mogelijkBuigpunt in mogelijkeBuigpunten:\n",
    "\n",
    "    if (sp.N(D2f(mogelijkBuigpunt+0.1)).is_positive and sp.N(D2f(mogelijkBuigpunt-0.1)).is_negative) or (sp.N(D2f(mogelijkBuigpunt-0.1)).is_positive and sp.N(D2f(mogelijkBuigpunt+0.1)).is_negative):\n",
    "\n",
    "        print(mogelijkBuigpunt, \"is een buigpunt\")\n",
    "\n",
    "    else:\n",
    "\n",
    "        print(mogelijkBuigpunt, \"is geen buigpunt\")"
   ]
  },
  {
   "cell_type": "markdown",
   "metadata": {},
   "source": [
    "### Oefening 2"
   ]
  },
  {
   "cell_type": "code",
   "execution_count": 31,
   "metadata": {},
   "outputs": [
    {
     "data": {
      "text/latex": [
       "$\\displaystyle x e^{- \\frac{x^{2}}{2}}$"
      ],
      "text/plain": [
       "x*exp(-x**2/2)"
      ]
     },
     "execution_count": 31,
     "metadata": {},
     "output_type": "execute_result"
    }
   ],
   "source": [
    "def g(x): return x*sp.exp(-x**2/2)\n",
    "g(x)"
   ]
  },
  {
   "cell_type": "code",
   "execution_count": 32,
   "metadata": {},
   "outputs": [
    {
     "data": {
      "text/plain": [
       "[0]"
      ]
     },
     "execution_count": 32,
     "metadata": {},
     "output_type": "execute_result"
    }
   ],
   "source": [
    "sp.solve(g(x))"
   ]
  },
  {
   "cell_type": "code",
   "execution_count": 33,
   "metadata": {},
   "outputs": [
    {
     "data": {
      "text/latex": [
       "$\\displaystyle -\\infty < x \\wedge x < 0$"
      ],
      "text/plain": [
       "(-oo < x) & (x < 0)"
      ]
     },
     "execution_count": 33,
     "metadata": {},
     "output_type": "execute_result"
    }
   ],
   "source": [
    "sp.solve(g(x)<0)"
   ]
  },
  {
   "cell_type": "code",
   "execution_count": 34,
   "metadata": {},
   "outputs": [
    {
     "data": {
      "text/latex": [
       "$\\displaystyle 0 < x \\wedge x < \\infty$"
      ],
      "text/plain": [
       "(0 < x) & (x < oo)"
      ]
     },
     "execution_count": 34,
     "metadata": {},
     "output_type": "execute_result"
    }
   ],
   "source": [
    "sp.solve(g(x)>0)"
   ]
  },
  {
   "cell_type": "code",
   "execution_count": 35,
   "metadata": {},
   "outputs": [
    {
     "data": {
      "text/latex": [
       "$\\displaystyle 0$"
      ],
      "text/plain": [
       "0"
      ]
     },
     "execution_count": 35,
     "metadata": {},
     "output_type": "execute_result"
    }
   ],
   "source": [
    "sp.limit(g(x),x,0,\"-\")"
   ]
  },
  {
   "cell_type": "code",
   "execution_count": 36,
   "metadata": {},
   "outputs": [
    {
     "data": {
      "text/latex": [
       "$\\displaystyle 0$"
      ],
      "text/plain": [
       "0"
      ]
     },
     "execution_count": 36,
     "metadata": {},
     "output_type": "execute_result"
    }
   ],
   "source": [
    "sp.limit(g(x),x,0,\"+\")"
   ]
  },
  {
   "cell_type": "markdown",
   "metadata": {},
   "source": [
    "Er zijn geen VA."
   ]
  },
  {
   "cell_type": "code",
   "execution_count": 37,
   "metadata": {},
   "outputs": [
    {
     "data": {
      "text/latex": [
       "$\\displaystyle 0$"
      ],
      "text/plain": [
       "0"
      ]
     },
     "execution_count": 37,
     "metadata": {},
     "output_type": "execute_result"
    }
   ],
   "source": [
    "sp.limit(g(x),x,sp.oo,\"-\")"
   ]
  },
  {
   "cell_type": "code",
   "execution_count": 38,
   "metadata": {},
   "outputs": [
    {
     "data": {
      "text/latex": [
       "$\\displaystyle 0$"
      ],
      "text/plain": [
       "0"
      ]
     },
     "execution_count": 38,
     "metadata": {},
     "output_type": "execute_result"
    }
   ],
   "source": [
    "sp.limit(g(x),x,sp.oo,\"+\")"
   ]
  },
  {
   "cell_type": "code",
   "execution_count": 39,
   "metadata": {},
   "outputs": [
    {
     "data": {
      "text/latex": [
       "$\\displaystyle 0$"
      ],
      "text/plain": [
       "0"
      ]
     },
     "execution_count": 39,
     "metadata": {},
     "output_type": "execute_result"
    }
   ],
   "source": [
    "sp.limit(g(x),x,-sp.oo,\"-\")"
   ]
  },
  {
   "cell_type": "code",
   "execution_count": 40,
   "metadata": {},
   "outputs": [
    {
     "data": {
      "text/latex": [
       "$\\displaystyle 0$"
      ],
      "text/plain": [
       "0"
      ]
     },
     "execution_count": 40,
     "metadata": {},
     "output_type": "execute_result"
    }
   ],
   "source": [
    "sp.limit(g(x),x,-sp.oo,\"+\")"
   ]
  },
  {
   "cell_type": "markdown",
   "metadata": {},
   "source": [
    "HA <-> y = 0"
   ]
  },
  {
   "cell_type": "markdown",
   "metadata": {},
   "source": [
    "Er zijn geen schuine asymptoten."
   ]
  },
  {
   "cell_type": "code",
   "execution_count": 41,
   "metadata": {},
   "outputs": [
    {
     "data": {
      "text/latex": [
       "$\\displaystyle - x^{2} e^{- \\frac{x^{2}}{2}} + e^{- \\frac{x^{2}}{2}}$"
      ],
      "text/plain": [
       "-x**2*exp(-x**2/2) + exp(-x**2/2)"
      ]
     },
     "execution_count": 41,
     "metadata": {},
     "output_type": "execute_result"
    }
   ],
   "source": [
    "# Afgeleide functie van g(x)\n",
    "def Dg(x0): return sp.diff(g(x),x).subs(x,x0)\n",
    "Dg(x)"
   ]
  },
  {
   "cell_type": "code",
   "execution_count": 46,
   "metadata": {},
   "outputs": [
    {
     "data": {
      "text/plain": [
       "[-1, 1]"
      ]
     },
     "execution_count": 46,
     "metadata": {},
     "output_type": "execute_result"
    }
   ],
   "source": [
    "kritiekePunten = sp.solve(Dg(x))\n",
    "kritiekePunten"
   ]
  },
  {
   "cell_type": "code",
   "execution_count": 43,
   "metadata": {},
   "outputs": [
    {
     "data": {
      "text/latex": [
       "$\\displaystyle -1 < x \\wedge x < 1$"
      ],
      "text/plain": [
       "(-1 < x) & (x < 1)"
      ]
     },
     "execution_count": 43,
     "metadata": {},
     "output_type": "execute_result"
    }
   ],
   "source": [
    "sp.solve(Dg(x)>0)"
   ]
  },
  {
   "cell_type": "code",
   "execution_count": 44,
   "metadata": {},
   "outputs": [
    {
     "data": {
      "text/latex": [
       "$\\displaystyle \\left(-\\infty < x \\wedge x < -1\\right) \\vee \\left(1 < x \\wedge x < \\infty\\right)$"
      ],
      "text/plain": [
       "((-oo < x) & (x < -1)) | ((1 < x) & (x < oo))"
      ]
     },
     "execution_count": 44,
     "metadata": {},
     "output_type": "execute_result"
    }
   ],
   "source": [
    "sp.solve(Dg(x)<0)"
   ]
  },
  {
   "cell_type": "code",
   "execution_count": 49,
   "metadata": {},
   "outputs": [
    {
     "name": "stdout",
     "output_type": "stream",
     "text": [
      "De afgeleide verandert van teken in -1 dus we kunnen spreken van een extremum.\n",
      "De afgeleide verandert van teken in 1 dus we kunnen spreken van een extremum.\n"
     ]
    }
   ],
   "source": [
    "for kritiekPunt in kritiekePunten:\n",
    "\n",
    "    if Dg(kritiekPunt - 0.1) < 0 < Dg(kritiekPunt + 0.1) or Dg(kritiekPunt + 0.1) < 0 < Dg(kritiekPunt - 0.1):\n",
    "\n",
    "        print(\"De afgeleide verandert van teken in\", kritiekPunt, \"dus we kunnen spreken van een extremum.\")"
   ]
  },
  {
   "cell_type": "code",
   "execution_count": 54,
   "metadata": {},
   "outputs": [
    {
     "data": {
      "text/latex": [
       "$\\displaystyle x \\left(x^{2} - 3\\right) e^{- \\frac{x^{2}}{2}}$"
      ],
      "text/plain": [
       "x*(x**2 - 3)*exp(-x**2/2)"
      ]
     },
     "execution_count": 54,
     "metadata": {},
     "output_type": "execute_result"
    }
   ],
   "source": [
    "def D2g(x0): return sp.diff(g(x),x,2).subs(x,x0)\n",
    "D2g(x)"
   ]
  },
  {
   "cell_type": "code",
   "execution_count": 59,
   "metadata": {},
   "outputs": [
    {
     "data": {
      "text/plain": [
       "[0, -sqrt(3), sqrt(3)]"
      ]
     },
     "execution_count": 59,
     "metadata": {},
     "output_type": "execute_result"
    }
   ],
   "source": [
    "mogelijkeBuigpunten = sp.solve(D2g(x))\n",
    "mogelijkeBuigpunten"
   ]
  },
  {
   "cell_type": "code",
   "execution_count": 55,
   "metadata": {},
   "outputs": [
    {
     "data": {
      "text/latex": [
       "$\\displaystyle \\left(- \\sqrt{3} < x \\wedge x < 0\\right) \\vee \\left(\\sqrt{3} < x \\wedge x < \\infty\\right)$"
      ],
      "text/plain": [
       "((x < oo) & (sqrt(3) < x)) | ((x < 0) & (-sqrt(3) < x))"
      ]
     },
     "execution_count": 55,
     "metadata": {},
     "output_type": "execute_result"
    }
   ],
   "source": [
    "sp.solve(D2g(x)>0)"
   ]
  },
  {
   "cell_type": "code",
   "execution_count": 56,
   "metadata": {},
   "outputs": [
    {
     "data": {
      "text/latex": [
       "$\\displaystyle \\left(-\\infty < x \\wedge x < - \\sqrt{3}\\right) \\vee \\left(0 < x \\wedge x < \\sqrt{3}\\right)$"
      ],
      "text/plain": [
       "((0 < x) & (x < sqrt(3))) | ((-oo < x) & (x < -sqrt(3)))"
      ]
     },
     "execution_count": 56,
     "metadata": {},
     "output_type": "execute_result"
    }
   ],
   "source": [
    "sp.solve(D2g(x)<0)"
   ]
  },
  {
   "cell_type": "code",
   "execution_count": 60,
   "metadata": {},
   "outputs": [
    {
     "name": "stdout",
     "output_type": "stream",
     "text": [
      "0 is een buigpunt\n",
      "-sqrt(3) is een buigpunt\n",
      "sqrt(3) is een buigpunt\n"
     ]
    }
   ],
   "source": [
    "for mogelijkBuigpunt in mogelijkeBuigpunten:\n",
    "\n",
    "    if (sp.N(D2g(mogelijkBuigpunt+0.1)).is_positive and sp.N(D2g(mogelijkBuigpunt-0.1)).is_negative) or (sp.N(D2g(mogelijkBuigpunt-0.1)).is_positive and sp.N(D2g(mogelijkBuigpunt+0.1)).is_negative):\n",
    "\n",
    "        print(mogelijkBuigpunt, \"is een buigpunt\")\n",
    "\n",
    "    else:\n",
    "\n",
    "        print(mogelijkBuigpunt, \"is geen buigpunt\")"
   ]
  }
 ],
 "metadata": {
  "kernelspec": {
   "display_name": "base",
   "language": "python",
   "name": "python3"
  },
  "language_info": {
   "codemirror_mode": {
    "name": "ipython",
    "version": 3
   },
   "file_extension": ".py",
   "mimetype": "text/x-python",
   "name": "python",
   "nbconvert_exporter": "python",
   "pygments_lexer": "ipython3",
   "version": "3.11.4"
  }
 },
 "nbformat": 4,
 "nbformat_minor": 2
}
