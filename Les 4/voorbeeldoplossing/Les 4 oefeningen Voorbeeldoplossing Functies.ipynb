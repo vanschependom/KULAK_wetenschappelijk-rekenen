{
 "cells": [
  {
   "cell_type": "markdown",
   "metadata": {},
   "source": [
    "# Oefening 4: Modeloplossing: Functies"
   ]
  },
  {
   "cell_type": "markdown",
   "metadata": {},
   "source": [
    "Importeer modules"
   ]
  },
  {
   "cell_type": "code",
   "execution_count": null,
   "metadata": {},
   "outputs": [],
   "source": [
    "import sympy as sp"
   ]
  },
  {
   "cell_type": "markdown",
   "metadata": {},
   "source": [
    "## asymptootOneindig"
   ]
  },
  {
   "cell_type": "code",
   "execution_count": null,
   "metadata": {},
   "outputs": [],
   "source": [
    "def asymptootOneindig(f):\n",
    "    \"\"\"\n",
    "    Bepaalt de horizontale of schuine asymptoot van een functie bij x -> oneindig. Een passende boodschap wordt afgedrukt en de functie die de asymptoot beschrijft wordt teruggegeven.\n",
    "\n",
    "    Parameters\n",
    "    ----------\n",
    "    f : function\n",
    "        De wiskundige functie waarvan de asymptoot wordt bepaald.\n",
    "\n",
    "    Returns\n",
    "    -------\n",
    "    function or None\n",
    "        De vergelijking van de horizontale of schuine asymptoot, of None als er geen asymptoot is.\n",
    "\n",
    "    Example\n",
    "    -------\n",
    "    >>> def f(x): return x**2/(x + 1)\n",
    "    >>> asymptootOneindig(f)\n",
    "    Er is een schuine asymptoot met vergelijking y= x - 1\n",
    "\n",
    "    Notes\n",
    "    -----\n",
    "    De functie maakt gebruik van de SymPy-bibliotheek voor het bepalen van limieten en het uitvoeren van\n",
    "    wiskundige bewerkingen. Zorg ervoor dat je SymPy hebt geïnstalleerd en geïmporteerd.\n",
    "\n",
    "    \"\"\"\n",
    "    x = sp.symbols('x', real=True)\n",
    "    limiet = sp.limit(f(x),x,sp.oo)\n",
    "    if limiet.is_finite:\n",
    "        def asymptoot(x): return limiet\n",
    "        print('Er is een horizontale asymptoot met vergelijking y=', asymptoot(x))\n",
    "    else:\n",
    "        a = sp.limit(f(x)/x,x,sp.oo)\n",
    "        b = sp.limit(f(x)-a*x,x,sp.oo)\n",
    "        if a.is_finite and b.is_finite:\n",
    "            def asymptoot(x): return a*x+b\n",
    "            print('Er is een schuine asymptoot met vergelijking y=', asymptoot(x))\n",
    "        else:\n",
    "            asymptoot = None\n",
    "            print('Er is geen horizontale of schuine asymptoot')\n",
    "    return asymptoot"
   ]
  },
  {
   "cell_type": "markdown",
   "metadata": {},
   "source": [
    "## klaseerNullen"
   ]
  },
  {
   "cell_type": "code",
   "execution_count": null,
   "metadata": {},
   "outputs": [],
   "source": [
    "def klasseerNullen(f):\n",
    "    \"\"\"\n",
    "    Bepaalt en klasseert de nullen van een gebroken functie in nulpunten, perforaties en asymptoten.\n",
    "\n",
    "    Parameters\n",
    "    ----------\n",
    "    f : function\n",
    "        De wiskundige functie waarvan de nullen worden geanalyseerd en geklasseerd.\n",
    "\n",
    "    Returns\n",
    "    -------\n",
    "    list of lists\n",
    "        Een lijst die drie sublijsten bevat. De eerste lijst bevat de nulpunten, de tweede lijst de perforaties,\n",
    "        en de derde lijst de verticale asymptoten.\n",
    "\n",
    "    Example\n",
    "    -------\n",
    "    >>> def f(x): return x**2/(x + 1)\n",
    "    >>> klasseerNullen(f)\n",
    "    0 -- nulpunt\n",
    "    -1 -- asymptoot\n",
    "    [[0], [], [-1]]\n",
    "\n",
    "    Notes\n",
    "    -----\n",
    "    De functie maakt gebruik van de SymPy-bibliotheek voor het oplossen van vergelijkingen en het bepalen\n",
    "    van limieten. Zorg ervoor dat je SymPy hebt geïnstalleerd en geïmporteerd.\n",
    "\n",
    "    \"\"\"\n",
    "    x = sp.symbols('x', real=True)\n",
    "    nulpuntenTeller = sp.solve(sp.numer(f(x)),x)\n",
    "    nulpuntenNoemer = sp.solve(sp.denom(f(x)),x)\n",
    "    nullen = set(nulpuntenTeller + nulpuntenNoemer)\n",
    "    nulpunten = []\n",
    "    perforaties = []\n",
    "    asymptoten = []\n",
    "    for k in nullen:\n",
    "        if k not in nulpuntenNoemer:\n",
    "            print(k,'-- nulpunt')\n",
    "            nulpunten += [k]\n",
    "        elif k in nulpuntenTeller and sp.limit(f(x),x,k).is_finite:\n",
    "            print(k,'-- perforatie')\n",
    "            perforaties += [k]\n",
    "        else:\n",
    "            print(k,'-- asymptoot')\n",
    "            asymptoten += [k]\n",
    "    return [nulpunten,perforaties,asymptoten]\n"
   ]
  },
  {
   "cell_type": "markdown",
   "metadata": {},
   "source": [
    "## klasseerKritiekePunten"
   ]
  },
  {
   "cell_type": "markdown",
   "metadata": {},
   "source": [
    "We beginnen met een functie op te stellen voor het berekenen van een raaklijn aan een functie in a."
   ]
  },
  {
   "cell_type": "code",
   "execution_count": null,
   "metadata": {},
   "outputs": [],
   "source": [
    "def raaklijn(f, a):\n",
    "    \"\"\"\n",
    "    Bepaalt de vergelijking van de raaklijn aan een gegeven functie `f` op het punt `x=a`.\n",
    "\n",
    "    Parameters\n",
    "    ----------\n",
    "    f : function\n",
    "        De wiskundige functie waaraan de raaklijn wordt bepaald.\n",
    "    a : numeric\n",
    "        Het punt waarop de raaklijn aan de functie `f` wordt bepaald.\n",
    "\n",
    "    Returns\n",
    "    -------\n",
    "    function\n",
    "        De vergelijking van de raaklijn aan de functie `f` op het punt `x=a`.\n",
    "\n",
    "    Example\n",
    "    -------\n",
    "    >>> def f(x): return x**2\n",
    "    >>> x = sp.symbols('x', real=True)\n",
    "    >>> raaklijn(f,1)(x)\n",
    "    2x−1\n",
    "\n",
    "    Notes\n",
    "    -----\n",
    "    De functie maakt gebruik van de SymPy-bibliotheek voor het differentiëren en evalueren van\n",
    "    wiskundige uitdrukkingen. Zorg ervoor dat je SymPy hebt geïnstalleerd en geïmporteerd.\n",
    "\n",
    "    \"\"\"\n",
    "    x = sp.symbols('x', real=True)\n",
    "    def Df(x0): \n",
    "        return sp.diff(f(x), x).subs(x, x0)\n",
    "    def rkl(x): \n",
    "        return Df(a) * (x - a) + f(a)\n",
    "    return rkl\n"
   ]
  },
  {
   "cell_type": "markdown",
   "metadata": {},
   "source": [
    "Deze functie kunnen we nu gebruiken in klasserKritiekePunten."
   ]
  },
  {
   "cell_type": "code",
   "execution_count": null,
   "metadata": {},
   "outputs": [],
   "source": [
    "def klasseerKritiekePunten(f):\n",
    "    \"\"\"\n",
    "    Bepaalt en klasseert de kritieke punten van een gegeven functie `f` in minima, maxima en buigpunten.\n",
    "\n",
    "    Parameters\n",
    "    ----------\n",
    "    f : function\n",
    "        De wiskundige functie waarvan de kritieke punten worden geanalyseerd en geklasseerd.\n",
    "\n",
    "    Returns\n",
    "    -------\n",
    "    list of lists\n",
    "        Een lijst die drie sublijsten bevat. De eerste lijst bevat de minima, de tweede lijst de maxima,\n",
    "        en de derde lijst de buigpunten.\n",
    "\n",
    "    Example\n",
    "    -------\n",
    "    >>> def f(x): return x**3-3*x**2+2*x\n",
    "    >>> klasseerKritiekePunten(f)\n",
    "    1 - sqrt(3)/3 -- maximum\n",
    "    sqrt(3)/3 + 1 -- minimum\n",
    "    1 -- buigpunt\n",
    "    De buigraaklijn heeft vergelijking y= 1 - x\n",
    "    [[sqrt(3)/3 + 1], [1 - sqrt(3)/3], [1]]\n",
    "\n",
    "    Notes\n",
    "    -----\n",
    "    De functie maakt gebruik van de SymPy-bibliotheek voor het differentiëren en oplossen van vergelijkingen.\n",
    "    Zorg ervoor dat je SymPy hebt geïnstalleerd en geïmporteerd. Daarnaast wordt de eerder gedefinieerde\n",
    "    `raaklijn` functie gebruikt om de vergelijking van de buigraaklijn te bepalen.\n",
    "\n",
    "    \"\"\"\n",
    "    x = sp.symbols('x', real=True)\n",
    "    def Df(x0): \n",
    "        return sp.diff(f(x), x).subs(x, x0)\n",
    "    def D2f(x0): \n",
    "        return sp.diff(Df(x), x).subs(x, x0)\n",
    "    def D3f(x0): \n",
    "        return sp.diff(D2f(x), x).subs(x, x0)\n",
    "\n",
    "    kritiekePunten = sp.solve(Df(x), x)\n",
    "    nulpuntenTweedeAfgeleide = sp.solve(D2f(x), x)\n",
    "\n",
    "    maxima = []\n",
    "    minima = []\n",
    "    buigpunten = []\n",
    "\n",
    "    for k in kritiekePunten:\n",
    "        if D2f(k) > 0:\n",
    "            print(k, '-- minimum')\n",
    "            minima += [k]\n",
    "        elif D2f(k) < 0:\n",
    "            print(k, '-- maximum')\n",
    "            maxima += [k]\n",
    "\n",
    "    for k in nulpuntenTweedeAfgeleide:\n",
    "        if D3f(k) != 0:\n",
    "            print(k, '-- buigpunt')\n",
    "            print('De buigraaklijn heeft vergelijking y=', raaklijn(f, k)(x))\n",
    "            buigpunten += [k]\n",
    "\n",
    "    return [minima, maxima, buigpunten]\n"
   ]
  },
  {
   "cell_type": "markdown",
   "metadata": {},
   "source": [
    "## functieVerloop"
   ]
  },
  {
   "cell_type": "code",
   "execution_count": null,
   "metadata": {},
   "outputs": [],
   "source": [
    "def functieVerloop(f):\n",
    "    \"\"\"\n",
    "    Analyseert het verloop van een gegeven functie `f` en drukt informatie af over zijn grafiek,\n",
    "    zoals de vergelijking, horizontale/schuine asymptoten, merkwaardige punten, en kritieke punten.\n",
    "\n",
    "    Parameters\n",
    "    ----------\n",
    "    f : function\n",
    "        De wiskundige functie die geanalyseerd wordt.\n",
    "\n",
    "    Returns\n",
    "    -------\n",
    "    None\n",
    "        De functie retourneert niets. In plaats daarvan drukt het relevante informatie af over de functie `f`.\n",
    "\n",
    "    Notes\n",
    "    -----\n",
    "    Deze functie is afhankelijk van andere functies zoals `asymptootOneindig`, `klasseerNullen`, en \n",
    "    `klasseerKritiekePunten` voor zijn analyse. Zorg ervoor dat deze functies ook in je code zijn gedefinieerd.\n",
    "    De functie maakt ook gebruik van de SymPy-bibliotheek. Zorg ervoor dat je SymPy hebt geïnstalleerd \n",
    "    en geïmporteerd.\n",
    "\n",
    "    \"\"\"\n",
    "    x, a = sp.symbols('x a', real=True)\n",
    "    \n",
    "    print('Analyse van de grafiek met vergelijking')\n",
    "    print('y =', f(x))\n",
    "    asymptootOneindig(f)\n",
    "    print('Merkwaardige punten:')\n",
    "    klasseerNullen(f)\n",
    "    klasseerKritiekePunten(f)\n",
    "    \n",
    "    return None\n"
   ]
  },
  {
   "cell_type": "markdown",
   "metadata": {},
   "source": [
    "## Exporteer"
   ]
  },
  {
   "cell_type": "markdown",
   "metadata": {},
   "source": [
    "Om de functies gedefinieerd in deze notebook te gebruiken in andere scripts, exporteer je deze als Python script."
   ]
  }
 ],
 "metadata": {
  "kernelspec": {
   "display_name": "base",
   "language": "python",
   "name": "python3"
  },
  "language_info": {
   "codemirror_mode": {
    "name": "ipython",
    "version": 3
   },
   "file_extension": ".py",
   "mimetype": "text/x-python",
   "name": "python",
   "nbconvert_exporter": "python",
   "pygments_lexer": "ipython3",
   "version": "3.11.4"
  }
 },
 "nbformat": 4,
 "nbformat_minor": 2
}
