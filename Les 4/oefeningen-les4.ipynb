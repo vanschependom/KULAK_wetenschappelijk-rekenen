{
 "cells": [
  {
   "cell_type": "code",
   "execution_count": 2,
   "metadata": {},
   "outputs": [
    {
     "name": "stdout",
     "output_type": "stream",
     "text": [
      "\n",
      "----------------------------\n",
      "Analyse van de grafiek met vergelijking y = x**3/(x**2 - 1)\n",
      "Er is een schuine asymptoot met vergelijking y = x\n",
      "Merkwaardige punten:\n",
      "0 -- nulpunt\n",
      "1 -- asymptoot\n",
      "-1 -- asymptoot\n",
      "-sqrt(3) -- maximum\n",
      "sqrt(3) -- minimum\n",
      "0 -- buigpunt\n",
      "De buigraaklijn heeft vergelijking y = 0\n",
      "\n",
      "----------------------------\n",
      "Analyse van de grafiek met vergelijking y = (x**3 - x**2 + x - 1)/(x**3 + x**2 - x - 1)\n",
      "Er is een horizontale asymptoot met vergelijking y = 1\n",
      "Merkwaardige punten:\n",
      "1 -- perforatie\n",
      "-1 -- asymptoot\n",
      "2 -- buigpunt\n",
      "De buigraaklijn heeft vergelijking y = 2*x/27 + 11/27\n"
     ]
    }
   ],
   "source": [
    "import sympy as sp\n",
    "from functie_analyse import *\n",
    "\n",
    "x = sp.symbols('x', real=True)\n",
    "\n",
    "def f(x): return (x**3)/(x**2-1)\n",
    "def g(x): return (x**3-x**2+x-1)/(x**3+x**2-x-1)\n",
    "\n",
    "functieVerloop(f)\n",
    "functieVerloop(g)"
   ]
  }
 ],
 "metadata": {
  "kernelspec": {
   "display_name": "base",
   "language": "python",
   "name": "python3"
  },
  "language_info": {
   "codemirror_mode": {
    "name": "ipython",
    "version": 3
   },
   "file_extension": ".py",
   "mimetype": "text/x-python",
   "name": "python",
   "nbconvert_exporter": "python",
   "pygments_lexer": "ipython3",
   "version": "3.11.4"
  }
 },
 "nbformat": 4,
 "nbformat_minor": 2
}
