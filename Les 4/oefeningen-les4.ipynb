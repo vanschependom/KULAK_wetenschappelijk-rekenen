{
 "cells": [
  {
   "cell_type": "code",
   "execution_count": 47,
   "metadata": {},
   "outputs": [
    {
     "ename": "ModuleNotFoundError",
     "evalue": "No module named 'functie_analyse'",
     "output_type": "error",
     "traceback": [
      "\u001b[0;31m---------------------------------------------------------------------------\u001b[0m",
      "\u001b[0;31mModuleNotFoundError\u001b[0m                       Traceback (most recent call last)",
      "\u001b[1;32m/Volumes/Extreme SSD/Code/KULAK_wetenschappelijk-rekenen/Les 4/oefeningen-les4.ipynb Cell 1\u001b[0m line \u001b[0;36m2\n\u001b[1;32m      <a href='vscode-notebook-cell:/Volumes/Extreme%20SSD/Code/KULAK_wetenschappelijk-rekenen/Les%204/oefeningen-les4.ipynb#W5sZmlsZQ%3D%3D?line=0'>1</a>\u001b[0m \u001b[39mimport\u001b[39;00m \u001b[39msympy\u001b[39;00m \u001b[39mas\u001b[39;00m \u001b[39msp\u001b[39;00m\n\u001b[0;32m----> <a href='vscode-notebook-cell:/Volumes/Extreme%20SSD/Code/KULAK_wetenschappelijk-rekenen/Les%204/oefeningen-les4.ipynb#W5sZmlsZQ%3D%3D?line=1'>2</a>\u001b[0m \u001b[39mimport\u001b[39;00m \u001b[39mfunctie_analyse\u001b[39;00m\n\u001b[1;32m      <a href='vscode-notebook-cell:/Volumes/Extreme%20SSD/Code/KULAK_wetenschappelijk-rekenen/Les%204/oefeningen-les4.ipynb#W5sZmlsZQ%3D%3D?line=3'>4</a>\u001b[0m x \u001b[39m=\u001b[39m sp\u001b[39m.\u001b[39msymbols(\u001b[39m'\u001b[39m\u001b[39mx\u001b[39m\u001b[39m'\u001b[39m, real\u001b[39m=\u001b[39m\u001b[39mTrue\u001b[39;00m)\n\u001b[1;32m      <a href='vscode-notebook-cell:/Volumes/Extreme%20SSD/Code/KULAK_wetenschappelijk-rekenen/Les%204/oefeningen-les4.ipynb#W5sZmlsZQ%3D%3D?line=5'>6</a>\u001b[0m \u001b[39mdef\u001b[39;00m \u001b[39mf\u001b[39m(x): \u001b[39mreturn\u001b[39;00m (x\u001b[39m*\u001b[39m\u001b[39m*\u001b[39m\u001b[39m3\u001b[39m)\u001b[39m/\u001b[39m(x\u001b[39m*\u001b[39m\u001b[39m*\u001b[39m\u001b[39m2\u001b[39m\u001b[39m-\u001b[39m\u001b[39m1\u001b[39m)\n",
      "\u001b[0;31mModuleNotFoundError\u001b[0m: No module named 'functie_analyse'"
     ]
    }
   ],
   "source": [
    "import sympy as sp\n",
    "from functie_analyse import *\n",
    "\n",
    "x = sp.symbols('x', real=True)\n",
    "\n",
    "def f(x): return (x**3)/(x**2-1)\n",
    "def g(x): return (x**3-x**2+x-1)/(x**3+x**2-x-1)\n",
    "\n",
    "functieVerloop(f)\n",
    "functieVerloop(g)"
   ]
  }
 ],
 "metadata": {
  "kernelspec": {
   "display_name": "base",
   "language": "python",
   "name": "python3"
  },
  "language_info": {
   "codemirror_mode": {
    "name": "ipython",
    "version": 3
   },
   "file_extension": ".py",
   "mimetype": "text/x-python",
   "name": "python",
   "nbconvert_exporter": "python",
   "pygments_lexer": "ipython3",
   "version": "3.11.4"
  }
 },
 "nbformat": 4,
 "nbformat_minor": 2
}
