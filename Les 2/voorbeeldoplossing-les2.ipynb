{
 "cells": [
  {
   "cell_type": "markdown",
   "metadata": {},
   "source": [
    "# Oefening 2: Modeloplossing"
   ]
  },
  {
   "cell_type": "markdown",
   "metadata": {},
   "source": [
    "Importeer alle bibliotheken. Belangrijk: voor het plotten met 'matplotlib' importeer je 'matplotlib.pyplot' en niet gewoon 'matplotlib'!!!"
   ]
  },
  {
   "cell_type": "code",
   "execution_count": null,
   "metadata": {},
   "outputs": [],
   "source": [
    "import sympy as sp\n",
    "import numpy as np\n",
    "import matplotlib.pyplot as plt"
   ]
  },
  {
   "cell_type": "markdown",
   "metadata": {},
   "source": [
    "## Definieer Functies"
   ]
  },
  {
   "cell_type": "markdown",
   "metadata": {},
   "source": [
    "Je kan voor de definitie van de functies teruggrijpen naar de vorige oefensessies."
   ]
  },
  {
   "cell_type": "code",
   "execution_count": null,
   "metadata": {},
   "outputs": [],
   "source": [
    "def f(x):\n",
    "    return x**3/(x**2-1)"
   ]
  },
  {
   "cell_type": "code",
   "execution_count": null,
   "metadata": {},
   "outputs": [],
   "source": [
    "def g(y):\n",
    "    return y*sp.exp(-y**2/2)"
   ]
  },
  {
   "cell_type": "code",
   "execution_count": null,
   "metadata": {},
   "outputs": [],
   "source": [
    "def h(x):\n",
    "    return sp.ln(x)/x**2"
   ]
  },
  {
   "cell_type": "markdown",
   "metadata": {},
   "source": [
    "## Definieer de X-waarden"
   ]
  },
  {
   "cell_type": "markdown",
   "metadata": {},
   "source": [
    "Stel een array van X-waarden op door gebruik te maken van linspace. We kiezen om tussen $x = -4$ en $x = 4$ 300 punten te genereren."
   ]
  },
  {
   "cell_type": "code",
   "execution_count": null,
   "metadata": {},
   "outputs": [],
   "source": [
    "X = np.linspace(-4,4,300)"
   ]
  },
  {
   "cell_type": "markdown",
   "metadata": {},
   "source": [
    "# Plot de functie f"
   ]
  },
  {
   "cell_type": "markdown",
   "metadata": {},
   "source": [
    "De algemene structuur van een plot met 'matplotlib' ziet er als volgt uit:"
   ]
  },
  {
   "cell_type": "code",
   "execution_count": null,
   "metadata": {},
   "outputs": [],
   "source": [
    "x_vals = [1,2,3]\n",
    "x2_vals = [0,1.5]\n",
    "y_vals = [0,2,5]\n",
    "y2_vals = [2,2]\n",
    "\n",
    "plt.figure()\n",
    "plt.plot(x_vals, y_vals)\n",
    "plt.plot(x2_vals)\n",
    "plt.xlim([-3,3])\n",
    "plt.ylim([-10,10])\n",
    "plt.show()"
   ]
  },
  {
   "cell_type": "markdown",
   "metadata": {},
   "source": [
    "Voor de functie $f$ en de lijst met x-waarden X, ziet dit er als volgt uit:"
   ]
  },
  {
   "cell_type": "code",
   "execution_count": null,
   "metadata": {},
   "outputs": [],
   "source": [
    "Y = f(X)\n",
    "plt.figure()\n",
    "plt.plot(X,Y,'g',linewidth=2)\n",
    "plt.xlim([-3,3])\n",
    "plt.ylim([-5,5])\n",
    "plt.show()"
   ]
  },
  {
   "cell_type": "markdown",
   "metadata": {},
   "source": [
    "Je ziet dat opties, zoals kleur en lijnbreedte, als opties gescheiden door komma's meegegeven worden met het 'plot' commando. Opties die op alle grafieken op de figuur van toepassing zijn, zoals 'xlim' en 'ylim' worden apart of de figuur uitgevoerd en maken geen deel uit van het 'plot' commando. Deze aanpassingen moeten gebeuren vooraleer de figuur geplot wordt met het plt.show() commando of vooraleer het codeblok uitgevoerd wordt. Eens de figuur geplot is, kan je geen eigenschappen meer aanpassen en moet je een nieuwe plot maken."
   ]
  },
  {
   "cell_type": "markdown",
   "metadata": {},
   "source": [
    "## Verwijder de verbindingslijnen bij de verticale asymptoten"
   ]
  },
  {
   "cell_type": "markdown",
   "metadata": {},
   "source": [
    "Deze code zet de waarden in de Y-lijst die groter zijn dan 10 of kleiner dan -10 om in 'nan' (Not a Number). Het 'plot' commando trekt lijnstukken tussen alle punten in Y, behalve wanneer de waarde 'nan' is."
   ]
  },
  {
   "cell_type": "code",
   "execution_count": null,
   "metadata": {},
   "outputs": [],
   "source": [
    "Y[abs(Y)>10] = 'nan'"
   ]
  },
  {
   "cell_type": "code",
   "execution_count": null,
   "metadata": {},
   "outputs": [],
   "source": [
    "plt.figure()\n",
    "plt.plot(X,Y,'g',linewidth=2)\n",
    "plt.xlim([-3,3])\n",
    "plt.ylim([-5,5])\n",
    "plt.show()"
   ]
  },
  {
   "cell_type": "markdown",
   "metadata": {},
   "source": [
    "## Verticale asymptoten"
   ]
  },
  {
   "cell_type": "markdown",
   "metadata": {},
   "source": [
    "De verticale asymptoten zijn verticale lijnstukken, dus we kunnen deze opstellen door twee punten te definiëren. Het 'plot' commando zal deze dan verbinden. "
   ]
  },
  {
   "cell_type": "code",
   "execution_count": null,
   "metadata": {},
   "outputs": [],
   "source": [
    "plt.plot([-1,-1],[-5,5])"
   ]
  },
  {
   "cell_type": "markdown",
   "metadata": {},
   "source": [
    "Om deze plot toe te voegen aan de figuur met de functie, voegen we dit 'plot' commando toe als volgt:"
   ]
  },
  {
   "cell_type": "code",
   "execution_count": null,
   "metadata": {},
   "outputs": [],
   "source": [
    "plt.figure()\n",
    "plt.plot(X,Y,'g',linewidth=2)\n",
    "plt.plot([-1,-1],[-5,5],'r--')\n",
    "plt.plot([1,1],[-5,5],'r--')\n",
    "plt.xlim([-3,3])\n",
    "plt.ylim([-5,5])\n",
    "plt.show()"
   ]
  },
  {
   "cell_type": "markdown",
   "metadata": {},
   "source": [
    "## Schuine asymptoten"
   ]
  },
  {
   "cell_type": "markdown",
   "metadata": {},
   "source": [
    "$f$ heeft een schuine asymptoot: $y = a*x + b$ met $a=1$ en $b=0$. Om deze te plotten kiezen we opnieuw twee punten op deze rechten: (-4,-4) en (4,4)"
   ]
  },
  {
   "cell_type": "code",
   "execution_count": null,
   "metadata": {},
   "outputs": [],
   "source": [
    "plt.figure()\n",
    "plt.plot(X,Y,'g',linewidth=2)\n",
    "plt.plot([-1,-1],[-5,5],'r--')\n",
    "plt.plot([1,1],[-5,5],'r--')\n",
    "plt.plot([-4,4],[-4,4],'r--')\n",
    "plt.xlim([-3,3])\n",
    "plt.ylim([-5,5])\n",
    "plt.show()"
   ]
  },
  {
   "cell_type": "markdown",
   "metadata": {},
   "source": [
    "## Kritieke punten"
   ]
  },
  {
   "cell_type": "markdown",
   "metadata": {},
   "source": [
    "De drie kritieke punten $x = -\\sqrt(3)$, $x = 0$ en $x = \\sqrt(3)$ kunnen we met behulp van het 'scatter' commando toevoegen:"
   ]
  },
  {
   "cell_type": "code",
   "execution_count": null,
   "metadata": {},
   "outputs": [],
   "source": [
    "plt.figure()\n",
    "plt.plot(X,Y,'g',linewidth=2)\n",
    "plt.plot([-1,-1],[-5,5],'r--')\n",
    "plt.plot([1,1],[-5,5],'r--')\n",
    "plt.plot([-4,4],[-4,4],'r--')\n",
    "plt.scatter([-np.sqrt(3),0,np.sqrt(3)],[f(-np.sqrt(3)),f(0),f(np.sqrt(3))])\n",
    "plt.xlim([-3,3])\n",
    "plt.ylim([-5,5])\n",
    "plt.show()"
   ]
  },
  {
   "cell_type": "markdown",
   "metadata": {},
   "source": [
    "Waarbij we zien dat 'scatter' op een volledig analoge manier als 'plot' opgesteld wordt via een lijst van x-waarden gevolgd door een lijst van functiewaarden, maar dat er nu geen lijnstukken tussen de punten getrokken worden."
   ]
  },
  {
   "cell_type": "markdown",
   "metadata": {},
   "source": [
    "## Plot raaklijnen in kritieke punten"
   ]
  },
  {
   "cell_type": "markdown",
   "metadata": {},
   "source": [
    "De raaklijnen in de kritieke punten plotten we door een klein interval rond het kritieke punt te nemen."
   ]
  },
  {
   "cell_type": "code",
   "execution_count": null,
   "metadata": {},
   "outputs": [],
   "source": [
    "plt.figure()\n",
    "plt.plot(X,Y,'g',linewidth=2)\n",
    "plt.plot([-1,-1],[-5,5],'r--')\n",
    "plt.plot([1,1],[-5,5],'r--')\n",
    "plt.plot([-4,4],[-4,4],'r--')\n",
    "plt.scatter([-np.sqrt(3),0,np.sqrt(3)],[f(-np.sqrt(3)),f(0),f(np.sqrt(3))])\n",
    "plt.plot((-.5, .5), (0, 0), 'b-')\n",
    "plt.plot((-np.sqrt(3)-.5, -np.sqrt(3)+.5), (f(-np.sqrt(3)), f(-np.sqrt(3))), 'b-')\n",
    "plt.plot((np.sqrt(3)-.5, np.sqrt(3)+.5), (f(np.sqrt(3)), f(np.sqrt(3))), 'b-')\n",
    "plt.xlim([-3,3])\n",
    "plt.ylim([-5,5])\n",
    "plt.show()"
   ]
  },
  {
   "cell_type": "markdown",
   "metadata": {},
   "source": [
    "# Plot de functie g"
   ]
  },
  {
   "cell_type": "markdown",
   "metadata": {},
   "source": [
    "Omdat de functie $g$ gebruik maakt van de sympy module om de functie te definiëren, moeten we gebruik maken van 'lambdify' om de Y-waarden te berekenen "
   ]
  },
  {
   "cell_type": "code",
   "execution_count": null,
   "metadata": {},
   "outputs": [],
   "source": [
    "x = sp.symbols('x',real=True)\n",
    "Y = sp.lambdify(x,g(x),'numpy')(X)"
   ]
  },
  {
   "cell_type": "code",
   "execution_count": null,
   "metadata": {},
   "outputs": [],
   "source": [
    "plt.figure()\n",
    "plt.plot(X,Y,'g',linewidth=2)\n",
    "plt.plot((-1.5, -0.5), (g(-1), g(-1)), 'b-')\n",
    "plt.plot((0.5, 1.5), (g(1), g(1)), 'b-')\n",
    "plt.scatter((-1,0,1),(g(-1),g(0),g(1)))\n",
    "plt.plot((-4,4),(0,0),'r--')\n",
    "plt.xlim([-4,4])\n",
    "plt.show()"
   ]
  },
  {
   "cell_type": "markdown",
   "metadata": {},
   "source": [
    "Voor het bepalen van de raaklijn in 0, hebben we de afgeleide van de functie nodig:"
   ]
  },
  {
   "cell_type": "code",
   "execution_count": null,
   "metadata": {},
   "outputs": [],
   "source": [
    "def Dg(x0): return sp.diff(g(x),x).subs(x,x0)"
   ]
  },
  {
   "cell_type": "code",
   "execution_count": null,
   "metadata": {},
   "outputs": [],
   "source": [
    "plt.figure()\n",
    "plt.plot(X,Y,'g',linewidth=2)\n",
    "plt.plot((-1.5, -0.5), (g(-1), g(-1)), 'b-')\n",
    "plt.plot((0.5, 1.5), (g(1), g(1)), 'b-')\n",
    "plt.plot((-0.5,0.5),(Dg(0)*-.5,Dg(0)*.5),'b-')\n",
    "plt.scatter((-1,0,1),(g(-1),g(0),g(1)))\n",
    "plt.plot((-4,4),(0,0),'r--')\n",
    "plt.xlim([-4,4])\n",
    "plt.show()"
   ]
  },
  {
   "cell_type": "markdown",
   "metadata": {},
   "source": [
    "# Plot de functie h"
   ]
  },
  {
   "cell_type": "code",
   "execution_count": null,
   "metadata": {},
   "outputs": [],
   "source": [
    "def Dh(x0): return sp.diff(h(x),x).subs(x,x0)"
   ]
  },
  {
   "cell_type": "code",
   "execution_count": null,
   "metadata": {},
   "outputs": [],
   "source": [
    "X = np.linspace(0,3,300)"
   ]
  },
  {
   "cell_type": "code",
   "execution_count": null,
   "metadata": {},
   "outputs": [],
   "source": [
    "Y = sp.lambdify(x,h(x),'numpy')(X)"
   ]
  },
  {
   "cell_type": "code",
   "execution_count": null,
   "metadata": {},
   "outputs": [],
   "source": [
    "plt.figure()\n",
    "plt.plot(X,Y,'g',linewidth=2)\n",
    "plt.plot((0, 0), (-10,10), 'r--')\n",
    "plt.plot((np.exp(1/2)-0.25, np.exp(1/2)+0.25), (h(np.exp(1/2)),h(np.exp(1/2))), 'b-')\n",
    "plt.plot((np.exp(5/6)-0.25, np.exp(5/6)+0.25), (h(np.exp(5/6))-.25*Dh(np.exp(5/6)),h(np.exp(5/6))+.25*Dh(np.exp(5/6))), 'b-')\n",
    "plt.scatter((np.exp(1/2),np.exp(5/6)),((h(np.exp(1/2)),h(np.exp(5/6)))))\n",
    "plt.plot((-4,4),(0,0),'r--')\n",
    "plt.xlim([-.5,3])\n",
    "plt.ylim([-1,.5])\n",
    "plt.show()"
   ]
  }
 ],
 "metadata": {
  "kernelspec": {
   "display_name": "base",
   "language": "python",
   "name": "python3"
  },
  "language_info": {
   "codemirror_mode": {
    "name": "ipython",
    "version": 3
   },
   "file_extension": ".py",
   "mimetype": "text/x-python",
   "name": "python",
   "nbconvert_exporter": "python",
   "pygments_lexer": "ipython3",
   "version": "3.11.4"
  },
  "orig_nbformat": 4
 },
 "nbformat": 4,
 "nbformat_minor": 2
}
