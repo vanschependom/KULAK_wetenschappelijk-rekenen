{
 "cells": [
  {
   "cell_type": "markdown",
   "metadata": {},
   "source": [
    "# Facultatieve opdracht"
   ]
  },
  {
   "cell_type": "markdown",
   "metadata": {},
   "source": [
    "Deze Notebook krijg je van ons voor de gequoteerde oefening."
   ]
  },
  {
   "cell_type": "markdown",
   "metadata": {},
   "source": [
    "## Importeer sympy en splines"
   ]
  },
  {
   "cell_type": "code",
   "execution_count": 1,
   "metadata": {},
   "outputs": [],
   "source": [
    "import sympy as sp\n",
    "import splines as spl"
   ]
  },
  {
   "cell_type": "markdown",
   "metadata": {},
   "source": [
    "## Definieer 'x' en 'm' als symbolische variabelen"
   ]
  },
  {
   "cell_type": "code",
   "execution_count": 2,
   "metadata": {},
   "outputs": [],
   "source": [
    "x = sp.symbols('x')\n",
    "m = sp.symbols('m')"
   ]
  },
  {
   "cell_type": "markdown",
   "metadata": {},
   "source": [
    "## Functie rechte(begin, einde)"
   ]
  },
  {
   "cell_type": "markdown",
   "metadata": {},
   "source": [
    "Voorbeeld: rechte door de punten [1,3] en [3,7]"
   ]
  },
  {
   "cell_type": "code",
   "execution_count": 3,
   "metadata": {},
   "outputs": [
    {
     "name": "stdout",
     "output_type": "stream",
     "text": [
      "y = 2*x + 1\n"
     ]
    }
   ],
   "source": [
    "g = spl.rechte([1,3],[3,7])\n",
    "print('y =',g(x))"
   ]
  },
  {
   "cell_type": "markdown",
   "metadata": {},
   "source": [
    "## Functie parabool(begin, einde, rico)"
   ]
  },
  {
   "cell_type": "markdown",
   "metadata": {},
   "source": [
    "Voorbeeld: parabool door de punten [1,3] en [3,7] en met afgeleide rico in het punt begin"
   ]
  },
  {
   "cell_type": "code",
   "execution_count": 4,
   "metadata": {},
   "outputs": [
    {
     "name": "stdout",
     "output_type": "stream",
     "text": [
      "y = x**2/2 + 5/2\n"
     ]
    }
   ],
   "source": [
    "f = spl.parabool([1,3],[3,7],1)\n",
    "print('y =',f(x))"
   ]
  },
  {
   "cell_type": "markdown",
   "metadata": {},
   "source": [
    "## Functie koorden(X, Y)"
   ]
  },
  {
   "cell_type": "markdown",
   "metadata": {},
   "source": [
    "Lijst van X en Y waarden"
   ]
  },
  {
   "cell_type": "code",
   "execution_count": 5,
   "metadata": {},
   "outputs": [],
   "source": [
    "X = [1,3, 4,6, 8,16,20]\n",
    "Y = [3,7,-1,9,11,19,15]"
   ]
  },
  {
   "cell_type": "markdown",
   "metadata": {},
   "source": [
    "Voorbeeld: Koorden door de punten met X = [1, 3, 4, 6, 8, 16, 20] en Y = [3, 7, -1, 9, 11, 19, 15]"
   ]
  },
  {
   "cell_type": "code",
   "execution_count": 6,
   "metadata": {},
   "outputs": [
    {
     "name": "stdout",
     "output_type": "stream",
     "text": [
      "[2*x + 1, 31 - 8*x, 5*x - 21, x + 3, x + 3, 35 - x]\n"
     ]
    }
   ],
   "source": [
    "gi = spl.koorden(X,Y)\n",
    "print([g(x) for g in gi])"
   ]
  },
  {
   "cell_type": "markdown",
   "metadata": {},
   "source": [
    "## Functie splines(X, Y, rico)"
   ]
  },
  {
   "cell_type": "markdown",
   "metadata": {},
   "source": [
    "Voorbeeld: Splines door de punten met X = [1, 3, 4, 6, 8, 16, 20] en Y = [3, 7, -1, 9, 11, 19, 15] en afgeleide rico in het eerste punt"
   ]
  },
  {
   "cell_type": "code",
   "execution_count": 7,
   "metadata": {},
   "outputs": [
    {
     "name": "stdout",
     "output_type": "stream",
     "text": [
      "[-3*m/2 + x**2*(1 - m/2) + x*(2*m - 2) + 4, 12*m + x**2*(m - 12) + x*(76 - 7*m) - 113, -12*m + x**2*(25/2 - m/2) + x*(5*m - 120) + 279, 24*m + x**2*(m/2 - 29/2) + x*(204 - 7*m) - 693, -16*m + x**2*(29/8 - m/8) + x*(3*m - 86) + 467, 80*m + x**2*(m/4 - 31/4) + x*(278 - 9*m) - 2445]\n"
     ]
    }
   ],
   "source": [
    "fi = spl.splines(X,Y,m)\n",
    "print([f(x) for f in fi])"
   ]
  },
  {
   "cell_type": "markdown",
   "metadata": {},
   "source": [
    "## Functie optimaal(X, Y)"
   ]
  },
  {
   "cell_type": "markdown",
   "metadata": {},
   "source": [
    "Voorbeeld: Kwadratische oppervlakte in functie van de parameter m en de optimale parameter"
   ]
  },
  {
   "cell_type": "code",
   "execution_count": 8,
   "metadata": {},
   "outputs": [
    {
     "name": "stdout",
     "output_type": "stream",
     "text": [
      "601*m**2/30 - 5764*m/5 + 16800\n",
      "17292/601\n"
     ]
    }
   ],
   "source": [
    "opt = spl.optimaal(X,Y)\n",
    "print(opt)"
   ]
  },
  {
   "cell_type": "markdown",
   "metadata": {},
   "source": [
    "## Functie figuur(X, Y)"
   ]
  },
  {
   "cell_type": "markdown",
   "metadata": {},
   "source": [
    "Grafiek van de punten, koorden, splines en raaklijnen in het geval de kwadratischeoppervlakte minimaal is"
   ]
  },
  {
   "cell_type": "code",
   "execution_count": 9,
   "metadata": {},
   "outputs": [
    {
     "name": "stdout",
     "output_type": "stream",
     "text": [
      "601*m**2/30 - 5764*m/5 + 16800\n"
     ]
    }
   ],
   "source": [
    "spl.figuur(X,Y)"
   ]
  }
 ],
 "metadata": {
  "kernelspec": {
   "display_name": "base",
   "language": "python",
   "name": "python3"
  },
  "language_info": {
   "codemirror_mode": {
    "name": "ipython",
    "version": 3
   },
   "file_extension": ".py",
   "mimetype": "text/x-python",
   "name": "python",
   "nbconvert_exporter": "python",
   "pygments_lexer": "ipython3",
   "version": "3.11.4"
  }
 },
 "nbformat": 4,
 "nbformat_minor": 2
}
